{
 "cells": [
  {
   "cell_type": "code",
   "execution_count": 1,
   "id": "6f0dace2",
   "metadata": {},
   "outputs": [],
   "source": [
    "import numpy as np\n",
    "import matplotlib.pyplot as plt\n",
    "from sklearn import datasets"
   ]
  },
  {
   "cell_type": "code",
   "execution_count": 2,
   "id": "855bbeea",
   "metadata": {},
   "outputs": [
    {
     "data": {
      "text/plain": [
       "((150, 2), (150, 1))"
      ]
     },
     "execution_count": 2,
     "metadata": {},
     "output_type": "execute_result"
    }
   ],
   "source": [
    "iris = datasets.load_iris()\n",
    "X = iris.data[:, :2]\n",
    "Y = (iris.target != 0) * 1\n",
    "Y = Y[:, np.newaxis]\n",
    "\n",
    "X.shape, Y.shape"
   ]
  },
  {
   "cell_type": "code",
   "execution_count": null,
   "id": "8cdde8d4",
   "metadata": {},
   "outputs": [],
   "source": []
  },
  {
   "cell_type": "code",
   "execution_count": 35,
   "id": "2a2a825a",
   "metadata": {},
   "outputs": [],
   "source": [
    "class LogisticRegression:\n",
    "    \n",
    "    def __init__(self, lr=1e-3, n_iter=5000):\n",
    "        self.lr = lr\n",
    "        self.n_iter = n_iter\n",
    "        \n",
    "    def fit(self, X, Y):\n",
    "        X = np.concatenate((np.ones((len(X),1)), X), axis=1)\n",
    "        weights = self.init_weights(X.shape[-1])\n",
    "        print(X.shape, Y.shape)\n",
    "        print(weights.shape)\n",
    "        \n",
    "        for i in range(self.n_iter):\n",
    "            y_pred, loss, weights = self.step(X, Y, weights)\n",
    "            \n",
    "            if i % 500 == 0:\n",
    "                print('iter: {}, loss: {:.2f}'.format(i, loss))\n",
    "                \n",
    "        return weights\n",
    "        \n",
    "    def init_weights(self, dim):\n",
    "        weights = np.random.normal(loc=0.0, scale=1.0, size=(dim,1))\n",
    "        weights[0] = 0\n",
    "        return weights\n",
    "        \n",
    "    def step(self, X, y_true, weights):\n",
    "        a = np.dot(X, weights)\n",
    "        y_pred = sigmoid(a)\n",
    "        loss = logistic_loss(y_true, y_pred)\n",
    "        der = der_logistic_loss(X, y_true, y_pred)\n",
    "        weights = weights - self.lr * der\n",
    "        return y_pred, loss, weights\n",
    "        \n",
    "\n",
    "def sigmoid(a):\n",
    "    return (1/(1+np.exp(-a)))\n",
    "\n",
    "def der_logistic_loss(X, y_true, y_pred):\n",
    "    der = np.dot(X.T, y_pred - y_true)\n",
    "    return der\n",
    "    \n",
    "def logistic_loss(y_true, y_pred):\n",
    "    loss = -np.mean(y_true * np.log(y_pred) + (1-y_true) * np.log(1-y_pred))\n",
    "    return loss\n",
    "    \n",
    "def predict(X, weights):\n",
    "    X = np.concatenate((np.ones((len(X), 1)), X), axis=1)\n",
    "    pred = np.dot(X, weights)\n",
    "    return pred"
   ]
  },
  {
   "cell_type": "code",
   "execution_count": 36,
   "id": "53311f0e",
   "metadata": {},
   "outputs": [],
   "source": [
    "log_reg = LogisticRegression()"
   ]
  },
  {
   "cell_type": "code",
   "execution_count": 40,
   "id": "41691d06",
   "metadata": {},
   "outputs": [
    {
     "name": "stdout",
     "output_type": "stream",
     "text": [
      "(150, 3) (150, 1)\n",
      "(3, 1)\n",
      "iter: 0, loss: 3.08\n",
      "iter: 500, loss: 0.10\n",
      "iter: 1000, loss: 0.07\n",
      "iter: 1500, loss: 0.06\n",
      "iter: 2000, loss: 0.05\n",
      "iter: 2500, loss: 0.05\n",
      "iter: 3000, loss: 0.04\n",
      "iter: 3500, loss: 0.04\n",
      "iter: 4000, loss: 0.04\n",
      "iter: 4500, loss: 0.04\n"
     ]
    }
   ],
   "source": [
    "weights = log_reg.fit(X, Y)"
   ]
  },
  {
   "cell_type": "code",
   "execution_count": null,
   "id": "7a24cc64",
   "metadata": {},
   "outputs": [],
   "source": []
  },
  {
   "cell_type": "code",
   "execution_count": 8,
   "id": "d6b12d1b",
   "metadata": {},
   "outputs": [
    {
     "data": {
      "text/plain": [
       "<matplotlib.collections.PathCollection at 0x7f65f1ae1850>"
      ]
     },
     "execution_count": 8,
     "metadata": {},
     "output_type": "execute_result"
    },
    {
     "data": {
      "image/png": "[encoded data removed]",
      "text/plain": [
       "<Figure size 432x288 with 1 Axes>"
      ]
     },
     "metadata": {
      "needs_background": "light"
     },
     "output_type": "display_data"
    }
   ],
   "source": [
    "plt.scatter(X[Y[:,0]==1][:,0], X[Y[:,0]==1][:,1])\n",
    "plt.scatter(X[Y[:,0]==0][:,0], X[Y[:,0]==0][:,1])"
   ]
  },
  {
   "cell_type": "code",
   "execution_count": 46,
   "id": "b8fb532d",
   "metadata": {},
   "outputs": [],
   "source": [
    "y_pred = predict(X, weights)\n",
    "y_pred = (y_pred >= 0.5)"
   ]
  },
  {
   "cell_type": "code",
   "execution_count": 47,
   "id": "b4d4a6de",
   "metadata": {},
   "outputs": [
    {
     "data": {
      "text/plain": [
       "(150, 1)"
      ]
     },
     "execution_count": 47,
     "metadata": {},
     "output_type": "execute_result"
    }
   ],
   "source": [
    "y_pred.shape"
   ]
  },
  {
   "cell_type": "code",
   "execution_count": 48,
   "id": "ba53c671",
   "metadata": {},
   "outputs": [
    {
     "data": {
      "text/plain": [
       "<matplotlib.collections.PathCollection at 0x7f65ee99a190>"
      ]
     },
     "execution_count": 48,
     "metadata": {},
     "output_type": "execute_result"
    },
    {
     "data": {
      "image/png": "[encoded data removed]",
      "text/plain": [
       "<Figure size 432x288 with 1 Axes>"
      ]
     },
     "metadata": {
      "needs_background": "light"
     },
     "output_type": "display_data"
    }
   ],
   "source": [
    "plt.scatter(X[y_pred[:,0]==1][:,0], X[y_pred[:,0]==1][:,1])\n",
    "plt.scatter(X[y_pred[:,0]==0][:,0], X[y_pred[:,0]==0][:,1])"
   ]
  },
  {
   "cell_type": "code",
   "execution_count": null,
   "id": "34af800c",
   "metadata": {},
   "outputs": [],
   "source": []
  },
  {
   "cell_type": "code",
   "execution_count": null,
   "id": "980d6a5e",
   "metadata": {},
   "outputs": [],
   "source": []
  },
  {
   "cell_type": "code",
   "execution_count": null,
   "id": "a2c467f6",
   "metadata": {},
   "outputs": [],
   "source": []
  },
  {
   "cell_type": "code",
   "execution_count": null,
   "id": "3c7f30bd",
   "metadata": {},
   "outputs": [],
   "source": []
  }
 ],
 "metadata": {
  "kernelspec": {
   "display_name": "foo_env",
   "language": "python",
   "name": "foo_env"
  },
  "language_info": {
   "codemirror_mode": {
    "name": "ipython",
    "version": 3
   },
   "file_extension": ".py",
   "mimetype": "text/x-python",
   "name": "python",
   "nbconvert_exporter": "python",
   "pygments_lexer": "ipython3",
   "version": "3.8.10"
  }
 },
 "nbformat": 4,
 "nbformat_minor": 5
}
